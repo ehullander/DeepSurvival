{
 "cells": [
  {
   "cell_type": "raw",
   "metadata": {},
   "source": [
    " /*\n",
    "\n",
    "* Copyright 2019 Core Scientific, Inc. All rights reserved.\n",
    "\n",
    "* CORE SCIENTIFIC PROPRIETARY/CONFIDENTIAL. Use is subject to license terms.\n",
    "\n",
    "*/"
   ]
  },
  {
   "cell_type": "markdown",
   "metadata": {},
   "source": [
    "# TensorFlow Implementation of Cox Proportional Hazards"
   ]
  },
  {
   "cell_type": "code",
   "execution_count": 61,
   "metadata": {},
   "outputs": [
    {
     "name": "stdout",
     "output_type": "stream",
     "text": [
      "The autotime extension is already loaded. To reload it, use:\n",
      "  %reload_ext autotime\n",
      "time: 7.85 ms\n"
     ]
    }
   ],
   "source": [
    "from __future__ import absolute_import, division, print_function, unicode_literals\n",
    "\n",
    "import pathlib\n",
    "\n",
    "import matplotlib.pyplot as plt\n",
    "import numpy as np\n",
    "import pandas as pd\n",
    "import seaborn as sns\n",
    "%load_ext autotime\n",
    "%matplotlib inline"
   ]
  },
  {
   "cell_type": "code",
   "execution_count": 2,
   "metadata": {},
   "outputs": [
    {
     "name": "stdout",
     "output_type": "stream",
     "text": [
      "time: 1.73 s\n"
     ]
    }
   ],
   "source": [
    "import tensorflow as tf\n",
    "\n",
    "from tensorflow import keras\n",
    "from tensorflow.keras import layers\n",
    "from tensorflow.keras import backend as K\n",
    "\n",
    "from lifelines.utils import concordance_index\n",
    "import copy"
   ]
  },
  {
   "cell_type": "code",
   "execution_count": 3,
   "metadata": {},
   "outputs": [
    {
     "name": "stdout",
     "output_type": "stream",
     "text": [
      "2.0.0\n",
      "time: 762 µs\n"
     ]
    }
   ],
   "source": [
    "print(tf.__version__)"
   ]
  },
  {
   "cell_type": "markdown",
   "metadata": {},
   "source": [
    "# Dataset Transformation\n",
    "\n",
    "Using Rossi recidivism dataset from Lifelines\n",
    "Using Lifelines to process the data"
   ]
  },
  {
   "cell_type": "markdown",
   "metadata": {},
   "source": [
    "# Dataset\n",
    "note: censored = lost-to-followup\n",
    "\n",
    "* X are the covariates\n",
    "* T are the event times in weeks (when arrest or censored)\n",
    "* E are the events TRUE = Arrest, False = censored\n",
    "* W are optional weights\n"
   ]
  },
  {
   "cell_type": "code",
   "execution_count": 26,
   "metadata": {},
   "outputs": [
    {
     "name": "stdout",
     "output_type": "stream",
     "text": [
      "time: 23.6 ms\n"
     ]
    }
   ],
   "source": [
    "from matplotlib import pyplot as plt\n",
    "from lifelines import CoxPHFitter\n",
    "import numpy as np\n",
    "import pandas as pd\n",
    "from lifelines.datasets import load_rossi\n",
    "from IPython.core.debugger import set_trace\n",
    "\n",
    "df = load_rossi()\n",
    "\n",
    "#df['age_strata'] = pd.cut(df['age'], np.arange(0, 80, 5))\n",
    "#df = df.drop('age', axis=1)"
   ]
  },
  {
   "cell_type": "code",
   "execution_count": 27,
   "metadata": {},
   "outputs": [
    {
     "name": "stdout",
     "output_type": "stream",
     "text": [
      "time: 22.3 ms\n"
     ]
    }
   ],
   "source": [
    "# Use lifelines to preprocess the data\n",
    "cph = CoxPHFitter()\n",
    "cph.duration_col = 'week'\n",
    "cph.event_col = 'arrest'\n",
    "cph.weights_col = None\n",
    "cph._n_examples = df.shape[0]\n",
    "cph.cluster_col = None\n",
    "# No strata\n",
    "#cph.strata=['age_strata', 'wexp']\n",
    "cph.strata = None\n",
    "#Preprocess the data\n",
    "X, T, E, W, original_index, _clusters = cph._preprocess_dataframe(df = df)"
   ]
  },
  {
   "cell_type": "code",
   "execution_count": 28,
   "metadata": {},
   "outputs": [
    {
     "data": {
      "text/html": [
       "<div>\n",
       "<style scoped>\n",
       "    .dataframe tbody tr th:only-of-type {\n",
       "        vertical-align: middle;\n",
       "    }\n",
       "\n",
       "    .dataframe tbody tr th {\n",
       "        vertical-align: top;\n",
       "    }\n",
       "\n",
       "    .dataframe thead th {\n",
       "        text-align: right;\n",
       "    }\n",
       "</style>\n",
       "<table border=\"1\" class=\"dataframe\">\n",
       "  <thead>\n",
       "    <tr style=\"text-align: right;\">\n",
       "      <th></th>\n",
       "      <th>fin</th>\n",
       "      <th>age</th>\n",
       "      <th>race</th>\n",
       "      <th>wexp</th>\n",
       "      <th>mar</th>\n",
       "      <th>paro</th>\n",
       "      <th>prio</th>\n",
       "    </tr>\n",
       "  </thead>\n",
       "  <tbody>\n",
       "    <tr>\n",
       "      <th>313</th>\n",
       "      <td>0.0</td>\n",
       "      <td>20.0</td>\n",
       "      <td>1.0</td>\n",
       "      <td>0.0</td>\n",
       "      <td>0.0</td>\n",
       "      <td>0.0</td>\n",
       "      <td>0.0</td>\n",
       "    </tr>\n",
       "    <tr>\n",
       "      <th>100</th>\n",
       "      <td>0.0</td>\n",
       "      <td>44.0</td>\n",
       "      <td>1.0</td>\n",
       "      <td>1.0</td>\n",
       "      <td>0.0</td>\n",
       "      <td>1.0</td>\n",
       "      <td>2.0</td>\n",
       "    </tr>\n",
       "    <tr>\n",
       "      <th>183</th>\n",
       "      <td>0.0</td>\n",
       "      <td>30.0</td>\n",
       "      <td>1.0</td>\n",
       "      <td>0.0</td>\n",
       "      <td>0.0</td>\n",
       "      <td>1.0</td>\n",
       "      <td>3.0</td>\n",
       "    </tr>\n",
       "    <tr>\n",
       "      <th>416</th>\n",
       "      <td>0.0</td>\n",
       "      <td>18.0</td>\n",
       "      <td>1.0</td>\n",
       "      <td>1.0</td>\n",
       "      <td>0.0</td>\n",
       "      <td>0.0</td>\n",
       "      <td>1.0</td>\n",
       "    </tr>\n",
       "    <tr>\n",
       "      <th>79</th>\n",
       "      <td>0.0</td>\n",
       "      <td>19.0</td>\n",
       "      <td>1.0</td>\n",
       "      <td>0.0</td>\n",
       "      <td>0.0</td>\n",
       "      <td>0.0</td>\n",
       "      <td>3.0</td>\n",
       "    </tr>\n",
       "  </tbody>\n",
       "</table>\n",
       "</div>"
      ],
      "text/plain": [
       "     fin   age  race  wexp  mar  paro  prio\n",
       "313  0.0  20.0   1.0   0.0  0.0   0.0   0.0\n",
       "100  0.0  44.0   1.0   1.0  0.0   1.0   2.0\n",
       "183  0.0  30.0   1.0   0.0  0.0   1.0   3.0\n",
       "416  0.0  18.0   1.0   1.0  0.0   0.0   1.0\n",
       "79   0.0  19.0   1.0   0.0  0.0   0.0   3.0"
      ]
     },
     "execution_count": 28,
     "metadata": {},
     "output_type": "execute_result"
    },
    {
     "name": "stdout",
     "output_type": "stream",
     "text": [
      "time: 10.7 ms\n"
     ]
    }
   ],
   "source": [
    "X.head()"
   ]
  },
  {
   "cell_type": "code",
   "execution_count": 29,
   "metadata": {},
   "outputs": [
    {
     "data": {
      "text/plain": [
       "313     1.0\n",
       "100     2.0\n",
       "183     3.0\n",
       "416     4.0\n",
       "79      5.0\n",
       "       ... \n",
       "157    52.0\n",
       "156    52.0\n",
       "155    52.0\n",
       "164    52.0\n",
       "431    52.0\n",
       "Name: week, Length: 432, dtype: float64"
      ]
     },
     "execution_count": 29,
     "metadata": {},
     "output_type": "execute_result"
    },
    {
     "name": "stdout",
     "output_type": "stream",
     "text": [
      "time: 15.4 ms\n"
     ]
    }
   ],
   "source": [
    "T"
   ]
  },
  {
   "cell_type": "code",
   "execution_count": 30,
   "metadata": {},
   "outputs": [
    {
     "data": {
      "text/plain": [
       "313     True\n",
       "100     True\n",
       "183     True\n",
       "416     True\n",
       "79      True\n",
       "       ...  \n",
       "157    False\n",
       "156    False\n",
       "155     True\n",
       "164    False\n",
       "431    False\n",
       "Name: arrest, Length: 432, dtype: bool"
      ]
     },
     "execution_count": 30,
     "metadata": {},
     "output_type": "execute_result"
    },
    {
     "name": "stdout",
     "output_type": "stream",
     "text": [
      "time: 4.64 ms\n"
     ]
    }
   ],
   "source": [
    "E"
   ]
  },
  {
   "cell_type": "markdown",
   "metadata": {},
   "source": [
    "# Custom Loss Function. negative partial likelihood\n",
    "\n",
    "https://github.com/sebp/scikit-survival/blob/master/sksurv/linear_model/coxph.py#L127  \n",
    "https://en.wikipedia.org/wiki/Proportional_hazards_model#Tied_times\n",
    "<img src = https://wikimedia.org/api/rest_v1/media/math/render/svg/3579bc338b85b36ac17b499e7b69cf1210c67b0f>"
   ]
  },
  {
   "cell_type": "code",
   "execution_count": 34,
   "metadata": {},
   "outputs": [
    {
     "name": "stdout",
     "output_type": "stream",
     "text": [
      "time: 2.46 ms\n"
     ]
    }
   ],
   "source": [
    "# Parial Likelihood - Only computed at fail times!\n",
    "# The loss is the negative likelihood\n",
    "# Cox model says failrate, lambda = labda0*exp(BX), where lambda0 is base hazard. The exponentiated part is \"risk\"\n",
    "# B are coefficients of the covars, X\n",
    "# The partial likelihood is found by dividing the risk of the subject that failed \n",
    "# by the risk of all subjects that could have failed at time t. Assumption is that only one failure at a time.\n",
    "# Likelihood would be maximized if the subject that failed was at most risk, while all others at minimal risk.\n",
    "# Current implementation below does not handle ties yet.\n",
    "\n",
    "class PL(tf.keras.losses.Loss):\n",
    "    def __init__(self, T, E, W):\n",
    "        super().__init__()\n",
    "        # Need failure times for ties, E are events, and W (don't care yet)\n",
    "        self.T = T\n",
    "        self.E = E\n",
    "        self.W = W\n",
    "\n",
    "    def loss(self, y_true, y_pred):   \n",
    "        # y_true and y_pred must be time ordered! This means 'X' must be time ordered before fitting\n",
    "        data = tf.stack([tf.squeeze(y_pred), T, E], 1)\n",
    "        # j is event index\n",
    "        S = 0\n",
    "        j = 0\n",
    "        for i in E:\n",
    "            # find failures. Compute risk of that subject, sum risk of all subjects that outlived this subject\n",
    "            # Since we ordered by time, we just sum from j, the index, to the end\n",
    "            if i:\n",
    "                S += -tf.math.log(tf.exp(data[j,0])/tf.reduce_sum(tf.exp(data[j:,0])))\n",
    "            #increment indexer\n",
    "            j += 1\n",
    "        #print(S)\n",
    "\n",
    "        return S\n"
   ]
  },
  {
   "cell_type": "markdown",
   "metadata": {},
   "source": [
    "# Custom Training"
   ]
  },
  {
   "cell_type": "code",
   "execution_count": 38,
   "metadata": {},
   "outputs": [
    {
     "name": "stdout",
     "output_type": "stream",
     "text": [
      "time: 1.39 ms\n"
     ]
    }
   ],
   "source": [
    "def train_step(my_data, train_labels):\n",
    "    with tf.GradientTape() as tape:\n",
    "        # Make a prediction and squeeze so tensor dims work with train_labels dims\n",
    "        y_pred = tf.squeeze(model(my_data))\n",
    "        # Compute the loss\n",
    "        loss_value = loss_object(train_labels, y_pred)\n",
    "        #print(loss_value)\n",
    "\n",
    "    loss_history.append(loss_value.numpy().mean())\n",
    "    grads = tape.gradient(loss_value, model.trainable_variables)\n",
    "    # Update\n",
    "    optimizer.apply_gradients(zip(grads, model.trainable_variables))\n",
    "    y_pred = tf.squeeze(model(my_data))\n",
    "    #print(loss_object(train_labels, y_pred))\n",
    "    #print(loss_value)"
   ]
  },
  {
   "cell_type": "code",
   "execution_count": 44,
   "metadata": {},
   "outputs": [
    {
     "name": "stdout",
     "output_type": "stream",
     "text": [
      "time: 930 µs\n"
     ]
    }
   ],
   "source": [
    "def train(my_data, train_labels, epochs):\n",
    "    for epoch in range(epochs):\n",
    "        train_step(my_data, train_labels)\n",
    "        if epoch % 100 == 0:\n",
    "            print ('Epoch {} finished'.format(epoch))"
   ]
  },
  {
   "cell_type": "markdown",
   "metadata": {},
   "source": [
    "# Build \"Shallow\" Cox Model in TF. Equivalent to model in Lifelines"
   ]
  },
  {
   "cell_type": "code",
   "execution_count": 83,
   "metadata": {},
   "outputs": [
    {
     "name": "stdout",
     "output_type": "stream",
     "text": [
      "Model: \"model_6\"\n",
      "_________________________________________________________________\n",
      "Layer (type)                 Output Shape              Param #   \n",
      "=================================================================\n",
      "input_7 (InputLayer)         [(None, 7)]               0         \n",
      "_________________________________________________________________\n",
      "dense_12 (Dense)             (None, 1)                 8         \n",
      "=================================================================\n",
      "Total params: 8\n",
      "Trainable params: 8\n",
      "Non-trainable params: 0\n",
      "_________________________________________________________________\n",
      "time: 1.02 s\n"
     ]
    }
   ],
   "source": [
    "#Initialize model with new input size\n",
    "optimizer = tf.keras.optimizers.RMSprop(0.001)\n",
    "inputs = keras.Input(shape=(len(X.keys()),))\n",
    "#x = layers.Dense(64, activation='relu')(x)\n",
    "#x = layers.Dense(64, activation='relu')(x)\n",
    "outputs = layers.Dense(1)(inputs)\n",
    "model = tf.keras.models.Model(inputs=inputs, outputs=outputs)\n",
    "model.compile(loss = PL(T, E, W).loss, metrics=['mae', 'mse'], )\n",
    "\n",
    "model.summary()"
   ]
  },
  {
   "cell_type": "code",
   "execution_count": 84,
   "metadata": {},
   "outputs": [
    {
     "data": {
      "text/plain": [
       "<tf.Tensor: id=65035947, shape=(432, 7), dtype=int32, numpy=\n",
       "array([[ 0, 20,  1, ...,  0,  0,  0],\n",
       "       [ 0, 44,  1, ...,  0,  1,  2],\n",
       "       [ 0, 30,  1, ...,  0,  1,  3],\n",
       "       ...,\n",
       "       [ 0, 25,  0, ...,  0,  1,  1],\n",
       "       [ 1, 28,  1, ...,  1,  1,  3],\n",
       "       [ 1, 24,  1, ...,  0,  1,  1]], dtype=int32)>"
      ]
     },
     "execution_count": 84,
     "metadata": {},
     "output_type": "execute_result"
    },
    {
     "name": "stdout",
     "output_type": "stream",
     "text": [
      "time: 3.66 ms\n"
     ]
    }
   ],
   "source": [
    "my_data = tf.convert_to_tensor(np.array(X), dtype='int32')\n",
    "my_data"
   ]
  },
  {
   "cell_type": "code",
   "execution_count": 85,
   "metadata": {},
   "outputs": [
    {
     "name": "stdout",
     "output_type": "stream",
     "text": [
      "time: 1.4 ms\n"
     ]
    }
   ],
   "source": [
    "optimizer = tf.keras.optimizers.Adam()\n",
    "loss_object = PL(T, E, W).loss\n",
    "loss_history = []"
   ]
  },
  {
   "cell_type": "markdown",
   "metadata": {},
   "source": [
    "# Train"
   ]
  },
  {
   "cell_type": "code",
   "execution_count": 89,
   "metadata": {},
   "outputs": [
    {
     "name": "stdout",
     "output_type": "stream",
     "text": [
      "Epoch 0 finished\n",
      "Epoch 100 finished\n",
      "Epoch 200 finished\n",
      "Epoch 300 finished\n",
      "Epoch 400 finished\n",
      "time: 1min 21s\n"
     ]
    }
   ],
   "source": [
    "train(my_data, E, epochs = 1500)"
   ]
  },
  {
   "cell_type": "code",
   "execution_count": 90,
   "metadata": {},
   "outputs": [
    {
     "data": {
      "text/plain": [
       "Text(0, 0.5, 'Loss')"
      ]
     },
     "execution_count": 90,
     "metadata": {},
     "output_type": "execute_result"
    },
    {
     "data": {
      "image/png": "[encoded data removed]",
      "text/plain": [
       "<Figure size 432x288 with 1 Axes>"
      ]
     },
     "metadata": {
      "needs_background": "light"
     },
     "output_type": "display_data"
    },
    {
     "name": "stdout",
     "output_type": "stream",
     "text": [
      "time: 180 ms\n"
     ]
    }
   ],
   "source": [
    "plt.plot(loss_history[500::])\n",
    "plt.title('Negative Partial Likelihood')\n",
    "plt.xlabel('Epoch')\n",
    "plt.ylabel('Loss')"
   ]
  },
  {
   "cell_type": "markdown",
   "metadata": {},
   "source": [
    "# Compare Lifelines Cox Model to \"Shallow\" TF Model\n",
    "* Should be similar\n",
    "* Lifelines imlements Efron's method for ties, should be better"
   ]
  },
  {
   "cell_type": "code",
   "execution_count": 70,
   "metadata": {},
   "outputs": [
    {
     "data": {
      "text/plain": [
       "<lifelines.CoxPHFitter:\"None\", fitted with 432 total observations, 318 right-censored observations>"
      ]
     },
     "execution_count": 70,
     "metadata": {},
     "output_type": "execute_result"
    },
    {
     "name": "stdout",
     "output_type": "stream",
     "text": [
      "time: 93.8 ms\n"
     ]
    }
   ],
   "source": [
    "# Fit Cox PH to df\n",
    "cph = CoxPHFitter()\n",
    "cph.fit(df, duration_col='week', event_col='arrest')"
   ]
  },
  {
   "cell_type": "markdown",
   "metadata": {},
   "source": [
    "# Concordance Metric"
   ]
  },
  {
   "cell_type": "code",
   "execution_count": 71,
   "metadata": {},
   "outputs": [
    {
     "name": "stdout",
     "output_type": "stream",
     "text": [
      "time: 69.4 ms\n"
     ]
    }
   ],
   "source": [
    "# Compare Concordance\n",
    "predcph = cph.predict_expectation(rossi_dataset)\n",
    "C1 = concordance_index(rossi_dataset['week'], predcph, event_observed=rossi_dataset['arrest']) \n",
    "\n",
    "preddeepcph = np.exp(np.array(tf.squeeze(model(my_data))))\n",
    "C2 = concordance_index(T, -preddeepcph, event_observed=E) "
   ]
  },
  {
   "cell_type": "code",
   "execution_count": 72,
   "metadata": {},
   "outputs": [
    {
     "name": "stdout",
     "output_type": "stream",
     "text": [
      "Lifelines  C: 0.6403292470997135\n",
      "TensorFlow C: 0.6412686111502512\n",
      "time: 2.87 ms\n"
     ]
    }
   ],
   "source": [
    "print('Lifelines  C: {0}\\nTensorFlow C: {1}'.format(C1, C2))#, C2"
   ]
  },
  {
   "cell_type": "markdown",
   "metadata": {},
   "source": [
    "# Coefficient Comparison"
   ]
  },
  {
   "cell_type": "code",
   "execution_count": 73,
   "metadata": {},
   "outputs": [
    {
     "name": "stdout",
     "output_type": "stream",
     "text": [
      "time: 12.2 ms\n"
     ]
    }
   ],
   "source": [
    "cphsum = copy.copy(cph.summary)\n",
    "cphsum['TFcoef'] = model.get_weights()[0]"
   ]
  },
  {
   "cell_type": "code",
   "execution_count": 74,
   "metadata": {},
   "outputs": [
    {
     "data": {
      "text/html": [
       "<div>\n",
       "<style scoped>\n",
       "    .dataframe tbody tr th:only-of-type {\n",
       "        vertical-align: middle;\n",
       "    }\n",
       "\n",
       "    .dataframe tbody tr th {\n",
       "        vertical-align: top;\n",
       "    }\n",
       "\n",
       "    .dataframe thead th {\n",
       "        text-align: right;\n",
       "    }\n",
       "</style>\n",
       "<table border=\"1\" class=\"dataframe\">\n",
       "  <thead>\n",
       "    <tr style=\"text-align: right;\">\n",
       "      <th></th>\n",
       "      <th>coef</th>\n",
       "      <th>TFcoef</th>\n",
       "    </tr>\n",
       "  </thead>\n",
       "  <tbody>\n",
       "    <tr>\n",
       "      <th>fin</th>\n",
       "      <td>-0.379422</td>\n",
       "      <td>-0.390884</td>\n",
       "    </tr>\n",
       "    <tr>\n",
       "      <th>age</th>\n",
       "      <td>-0.057438</td>\n",
       "      <td>-0.057884</td>\n",
       "    </tr>\n",
       "    <tr>\n",
       "      <th>race</th>\n",
       "      <td>0.313900</td>\n",
       "      <td>0.344179</td>\n",
       "    </tr>\n",
       "    <tr>\n",
       "      <th>wexp</th>\n",
       "      <td>-0.149796</td>\n",
       "      <td>-0.161364</td>\n",
       "    </tr>\n",
       "    <tr>\n",
       "      <th>mar</th>\n",
       "      <td>-0.433704</td>\n",
       "      <td>-0.444392</td>\n",
       "    </tr>\n",
       "    <tr>\n",
       "      <th>paro</th>\n",
       "      <td>-0.084871</td>\n",
       "      <td>-0.097843</td>\n",
       "    </tr>\n",
       "    <tr>\n",
       "      <th>prio</th>\n",
       "      <td>0.091497</td>\n",
       "      <td>0.091783</td>\n",
       "    </tr>\n",
       "  </tbody>\n",
       "</table>\n",
       "</div>"
      ],
      "text/plain": [
       "          coef    TFcoef\n",
       "fin  -0.379422 -0.390884\n",
       "age  -0.057438 -0.057884\n",
       "race  0.313900  0.344179\n",
       "wexp -0.149796 -0.161364\n",
       "mar  -0.433704 -0.444392\n",
       "paro -0.084871 -0.097843\n",
       "prio  0.091497  0.091783"
      ]
     },
     "execution_count": 74,
     "metadata": {},
     "output_type": "execute_result"
    },
    {
     "name": "stdout",
     "output_type": "stream",
     "text": [
      "time: 6.39 ms\n"
     ]
    }
   ],
   "source": [
    "cphsum[['coef', 'TFcoef']]"
   ]
  },
  {
   "cell_type": "markdown",
   "metadata": {},
   "source": [
    "# These models are very similar"
   ]
  },
  {
   "cell_type": "markdown",
   "metadata": {},
   "source": [
    "# Train a Deeper Model with same loss function\n",
    "\n",
    "Add some dense layers and retrain"
   ]
  },
  {
   "cell_type": "code",
   "execution_count": 76,
   "metadata": {},
   "outputs": [
    {
     "name": "stdout",
     "output_type": "stream",
     "text": [
      "Model: \"model_5\"\n",
      "_________________________________________________________________\n",
      "Layer (type)                 Output Shape              Param #   \n",
      "=================================================================\n",
      "input_6 (InputLayer)         [(None, 7)]               0         \n",
      "_________________________________________________________________\n",
      "dense_9 (Dense)              (None, 64)                512       \n",
      "_________________________________________________________________\n",
      "dense_10 (Dense)             (None, 64)                4160      \n",
      "_________________________________________________________________\n",
      "dense_11 (Dense)             (None, 1)                 65        \n",
      "=================================================================\n",
      "Total params: 4,737\n",
      "Trainable params: 4,737\n",
      "Non-trainable params: 0\n",
      "_________________________________________________________________\n",
      "time: 1.01 s\n"
     ]
    }
   ],
   "source": [
    "#Initialize model with new input size\n",
    "optimizer = tf.keras.optimizers.RMSprop(0.001)\n",
    "inputs = keras.Input(shape=(len(X.keys()),))\n",
    "x = layers.Dense(64, activation='relu')(inputs)\n",
    "x = layers.Dense(64, activation='relu')(x)\n",
    "outputs = layers.Dense(1)(x)\n",
    "model = tf.keras.models.Model(inputs=inputs, outputs=outputs)\n",
    "model.compile(loss = PL(T, E, W).loss, metrics=['mae', 'mse'], )\n",
    "\n",
    "model.summary()"
   ]
  },
  {
   "cell_type": "code",
   "execution_count": 78,
   "metadata": {},
   "outputs": [
    {
     "name": "stdout",
     "output_type": "stream",
     "text": [
      "Epoch 0 finished\n",
      "Epoch 100 finished\n",
      "Epoch 200 finished\n",
      "Epoch 300 finished\n",
      "Epoch 400 finished\n",
      "Epoch 500 finished\n",
      "Epoch 600 finished\n",
      "Epoch 700 finished\n",
      "Epoch 800 finished\n",
      "Epoch 900 finished\n",
      "Epoch 1000 finished\n",
      "Epoch 1100 finished\n",
      "Epoch 1200 finished\n",
      "Epoch 1300 finished\n",
      "Epoch 1400 finished\n",
      "Epoch 1500 finished\n",
      "Epoch 1600 finished\n",
      "Epoch 1700 finished\n",
      "Epoch 1800 finished\n",
      "Epoch 1900 finished\n",
      "Epoch 2000 finished\n",
      "Epoch 2100 finished\n",
      "Epoch 2200 finished\n",
      "Epoch 2300 finished\n",
      "Epoch 2400 finished\n",
      "Epoch 2500 finished\n",
      "Epoch 2600 finished\n",
      "Epoch 2700 finished\n",
      "Epoch 2800 finished\n",
      "Epoch 2900 finished\n",
      "Epoch 3000 finished\n",
      "Epoch 3100 finished\n",
      "Epoch 3200 finished\n",
      "Epoch 3300 finished\n",
      "Epoch 3400 finished\n",
      "Epoch 3500 finished\n",
      "Epoch 3600 finished\n",
      "Epoch 3700 finished\n",
      "Epoch 3800 finished\n",
      "Epoch 3900 finished\n",
      "time: 10min 54s\n"
     ]
    }
   ],
   "source": [
    "loss_history = []\n",
    "train(my_data, E, epochs = 4000)"
   ]
  },
  {
   "cell_type": "code",
   "execution_count": 79,
   "metadata": {},
   "outputs": [
    {
     "data": {
      "text/plain": [
       "Text(0, 0.5, 'Loss')"
      ]
     },
     "execution_count": 79,
     "metadata": {},
     "output_type": "execute_result"
    },
    {
     "data": {
      "image/png": "[encoded data removed]",
      "text/plain": [
       "<Figure size 432x288 with 1 Axes>"
      ]
     },
     "metadata": {
      "needs_background": "light"
     },
     "output_type": "display_data"
    },
    {
     "name": "stdout",
     "output_type": "stream",
     "text": [
      "time: 205 ms\n"
     ]
    }
   ],
   "source": [
    "plt.plot(loss_history)\n",
    "plt.title('Negative Partial Likelihood')\n",
    "plt.xlabel('Epoch')\n",
    "plt.ylabel('Loss')"
   ]
  },
  {
   "cell_type": "markdown",
   "metadata": {},
   "source": [
    "# Concordance Metric"
   ]
  },
  {
   "cell_type": "code",
   "execution_count": 80,
   "metadata": {},
   "outputs": [
    {
     "name": "stdout",
     "output_type": "stream",
     "text": [
      "time: 28 ms\n"
     ]
    }
   ],
   "source": [
    "# Lifelines Concordance\n",
    "predcph = cph.predict_expectation(rossi_dataset)\n",
    "C1 = concordance_index(rossi_dataset['week'], predcph, event_observed=rossi_dataset['arrest']) \n",
    "\n",
    "preddeepcph = np.exp(np.array(tf.squeeze(model(my_data))))\n",
    "C2 = concordance_index(T, -preddeepcph, event_observed=E) "
   ]
  },
  {
   "cell_type": "code",
   "execution_count": 81,
   "metadata": {},
   "outputs": [
    {
     "name": "stdout",
     "output_type": "stream",
     "text": [
      "Lifelines  C: 0.6403292470997135\n",
      "TensorFlow C: 0.8227537457141515\n",
      "time: 3.23 ms\n"
     ]
    }
   ],
   "source": [
    "print('Lifelines  C: {0}\\nTensorFlow C: {1}'.format(C1, C2))#, C2"
   ]
  },
  {
   "cell_type": "code",
   "execution_count": null,
   "metadata": {},
   "outputs": [],
   "source": []
  }
 ],
 "metadata": {
  "kernelspec": {
   "display_name": "Python 3",
   "language": "python",
   "name": "python3"
  },
  "language_info": {
   "codemirror_mode": {
    "name": "ipython",
    "version": 3
   },
   "file_extension": ".py",
   "mimetype": "text/x-python",
   "name": "python",
   "nbconvert_exporter": "python",
   "pygments_lexer": "ipython3",
   "version": "3.8.3"
  }
 },
 "nbformat": 4,
 "nbformat_minor": 2
}
